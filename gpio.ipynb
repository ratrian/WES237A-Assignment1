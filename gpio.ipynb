{
 "cells": [
  {
   "cell_type": "markdown",
   "metadata": {},
   "source": [
    "# Interacting with GPIO from MicroBlaze"
   ]
  },
  {
   "cell_type": "code",
   "execution_count": 240,
   "metadata": {},
   "outputs": [],
   "source": [
    "from pynq.overlays.base import BaseOverlay\n",
    "import time\n",
    "from datetime import datetime\n",
    "import matplotlib.pyplot as plt\n",
    "import numpy as np\n",
    "\n",
    "base = BaseOverlay(\"base.bit\")"
   ]
  },
  {
   "cell_type": "code",
   "execution_count": 241,
   "metadata": {},
   "outputs": [],
   "source": [
    "%%microblaze base.PMODB\n",
    "\n",
    "#include \"gpio.h\"\n",
    "#include \"pyprintf.h\"\n",
    "\n",
    "//Function to read the value of a selected pin of PMODB\n",
    "unsigned int read_gpio(unsigned int pin){\n",
    "    gpio pin_in = gpio_open(pin);\n",
    "    gpio_set_direction(pin_in, GPIO_IN);\n",
    "    return gpio_read(pin_in);\n",
    "}\n",
    "\n",
    "//Function to turn on/off a selected pin of PMODB\n",
    "void write_gpio(unsigned int pin, unsigned int val){\n",
    "    if (val > 1){\n",
    "        pyprintf(\"pin value must be 0 or 1\");\n",
    "    }\n",
    "    gpio pin_out = gpio_open(pin);\n",
    "    gpio_set_direction(pin_out, GPIO_OUT);\n",
    "    gpio_write(pin_out, val);\n",
    "}\n",
    "\n",
    "//Function to reset all pins of PMODB\n",
    "void reset_gpio(){\n",
    "    for (unsigned int i = 0; i < 8; i++){\n",
    "        write_gpio(i, 0);\n",
    "    }\n",
    "}"
   ]
  },
  {
   "cell_type": "code",
   "execution_count": 242,
   "metadata": {},
   "outputs": [
    {
     "data": {
      "text/plain": [
       "Text(0.5,1,'perceived brightness')"
      ]
     },
     "execution_count": 242,
     "metadata": {},
     "output_type": "execute_result"
    },
    {
     "data": {
      "image/png": "[encoded data removed]",
      "text/plain": [
       "<matplotlib.figure.Figure at 0xafee8f90>"
      ]
     },
     "metadata": {},
     "output_type": "display_data"
    }
   ],
   "source": [
    "reset_gpio()\n",
    "duty_cycle = 1\n",
    "duration = 0\n",
    "while duration != 100: #3secs\n",
    "    write_gpio(3,1)\n",
    "    time.sleep(duty_cycle * 0.03)\n",
    "    write_gpio(3,0)\n",
    "    time.sleep((1 - duty_cycle) * 0.03)\n",
    "    duration += 1\n",
    "    \n",
    "duty_cycle = 0.75\n",
    "duration = 0\n",
    "while duration != 100: #3secs\n",
    "    write_gpio(3,1)\n",
    "    time.sleep(duty_cycle * 0.03)\n",
    "    write_gpio(3,0)\n",
    "    time.sleep((1 - duty_cycle) * 0.03)\n",
    "    duration += 1\n",
    "    \n",
    "duty_cycle = 0.5\n",
    "duration = 0\n",
    "while duration != 100: #3secs\n",
    "    write_gpio(3,1)\n",
    "    time.sleep(duty_cycle * 0.03)\n",
    "    write_gpio(3,0)\n",
    "    time.sleep((1 - duty_cycle) * 0.03)\n",
    "    duration += 1\n",
    "\n",
    "duty_cycle = 0.25\n",
    "duration = 0\n",
    "while duration != 100: #3secs\n",
    "    write_gpio(3,1)\n",
    "    time.sleep(duty_cycle * 0.03)\n",
    "    write_gpio(3,0)\n",
    "    time.sleep((1 - duty_cycle) * 0.03)\n",
    "    duration += 1\n",
    "\n",
    "x_vals = [0, 25, 50, 75, 100]\n",
    "y_vals = [0, 50, 100, 150, 200]\n",
    "plt.plot(x_vals, y_vals)\n",
    "plt.xlabel('duty cycle')\n",
    "plt.ylabel('% brightness')\n",
    "plt.title('perceived brightness')"
   ]
  },
  {
   "cell_type": "code",
   "execution_count": 243,
   "metadata": {},
   "outputs": [],
   "source": [
    "base = BaseOverlay(\"base.bit\")"
   ]
  },
  {
   "cell_type": "code",
   "execution_count": 244,
   "metadata": {},
   "outputs": [],
   "source": [
    "%%microblaze base.PMODB\n",
    "\n",
    "#include \"gpio.h\"\n",
    "#include \"pyprintf.h\"\n",
    "\n",
    "//Function to read the value of a selected pin of PMODB\n",
    "unsigned int read_gpio(unsigned int pin){\n",
    "    gpio pin_in = gpio_open(pin);\n",
    "    gpio_set_direction(pin_in, GPIO_IN);\n",
    "    return gpio_read(pin_in);\n",
    "}\n",
    "\n",
    "//Function to turn on/off a selected pin of PMODB\n",
    "void write_gpio(unsigned int pin, unsigned int val){\n",
    "    if (val > 1){\n",
    "        pyprintf(\"pin value must be 0 or 1\");\n",
    "    }\n",
    "    gpio pin_out = gpio_open(pin);\n",
    "    gpio_set_direction(pin_out, GPIO_OUT);\n",
    "    gpio_write(pin_out, val);\n",
    "}\n",
    "\n",
    "//Function to reset all pins of PMODB\n",
    "void reset_gpio(){\n",
    "    for (unsigned int i = 0; i < 8; i++){\n",
    "        write_gpio(i, 0);\n",
    "    }\n",
    "}"
   ]
  },
  {
   "cell_type": "code",
   "execution_count": 245,
   "metadata": {},
   "outputs": [
    {
     "name": "stdout",
     "output_type": "stream",
     "text": [
      "Done.\n"
     ]
    }
   ],
   "source": [
    "# %100 duty cycle\n",
    "import asyncio\n",
    "cond = True\n",
    "blink = True\n",
    "pin = 3\n",
    "\n",
    "async def flash_led():\n",
    "    global cond, blink, pin\n",
    "    reset_gpio()\n",
    "    while cond:\n",
    "        write_gpio(pin,1)\n",
    "        await asyncio.sleep(1)\n",
    "        if blink:\n",
    "            write_gpio(pin,0)\n",
    "        await asyncio.sleep(1)\n",
    "            \n",
    "\n",
    "async def get_btns(_loop):\n",
    "    global cond, blink, pin\n",
    "    while cond:\n",
    "        await asyncio.sleep(0.0001)\n",
    "        if base.buttons[0].read() != 0:\n",
    "            reset_gpio()\n",
    "            pin = 3\n",
    "        elif base.buttons[1].read() != 0:\n",
    "            reset_gpio()\n",
    "            pin = 2\n",
    "        elif base.buttons[2].read() != 0:\n",
    "            reset_gpio()\n",
    "            pin = 1\n",
    "        elif base.buttons[3].read() != 0:\n",
    "            blink = False\n",
    "            _loop.stop()\n",
    "            cond = False\n",
    "\n",
    "loop = asyncio.new_event_loop()\n",
    "loop.create_task(flash_led())\n",
    "loop.create_task(get_btns(loop))\n",
    "loop.run_forever()\n",
    "loop.close()\n",
    "print(\"Done.\")"
   ]
  },
  {
   "cell_type": "code",
   "execution_count": null,
   "metadata": {},
   "outputs": [],
   "source": []
  }
 ],
 "metadata": {
  "kernelspec": {
   "display_name": "Python 3",
   "language": "python",
   "name": "python3"
  },
  "language_info": {
   "codemirror_mode": {
    "name": "ipython",
    "version": 3
   },
   "file_extension": ".py",
   "mimetype": "text/x-python",
   "name": "python",
   "nbconvert_exporter": "python",
   "pygments_lexer": "ipython3",
   "version": "3.6.5"
  }
 },
 "nbformat": 4,
 "nbformat_minor": 2
}
